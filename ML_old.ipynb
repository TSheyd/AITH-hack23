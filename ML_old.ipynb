{
 "cells": [
  {
   "cell_type": "code",
   "execution_count": null,
   "metadata": {
    "collapsed": true
   },
   "outputs": [],
   "source": [
    "# Loading libraries\n",
    "import subprocess\n",
    "import csv\n",
    "\n",
    "import pandas as pd\n",
    "import numpy as np\n",
    "from sklearn.linear_model import LogisticRegression\n",
    "import xgboost as xgb\n",
    "from sklearn.utils import resample\n",
    "\n",
    "from skopt import BayesSearchCV\n",
    "\n",
    "from scipy import stats\n",
    "from scipy.stats import mannwhitneyu\n",
    "from statsmodels.stats import multitest\n",
    "\n",
    "import seaborn as sns"
   ]
  },
  {
   "cell_type": "code",
   "execution_count": null,
   "outputs": [],
   "source": [
    "# Age prediction data processing\n",
    "age_data_expr=pd.read_table('./data/progeria.healthy.tmm.tsv', index_col=None).T\n",
    "age_data_expr['Run']=age_data_expr.index\n",
    "age_data_expr['Run']=age_data_expr['Run'].apply( lambda x: x.replace('_quant', ''))\n",
    "\n",
    "age_metadata=pd.read_table('./data/progeria.metadata')"
   ],
   "metadata": {
    "collapsed": false
   }
  },
  {
   "cell_type": "code",
   "execution_count": null,
   "outputs": [],
   "source": [
    "# Merge metadata info with expressions\n",
    "age_data=pd.merge(age_data_expr, age_metadata[['Age', 'Run']], on='Run').drop(columns='Run')\n",
    "age_data['Age']=age_data['Age'].astype('int')\n",
    "age_data=age_data.loc[age_data['Age']>=20, :]\n",
    "age_data_num=age_data"
   ],
   "metadata": {
    "collapsed": false
   }
  },
  {
   "cell_type": "code",
   "execution_count": null,
   "outputs": [],
   "source": [
    "# Creating age categorical variable\n",
    "\n",
    "# 20-30: 0\n",
    "# 31-44: 1\n",
    "# 45-59: 2\n",
    "# 60-74: 3\n",
    "# 75+  : 4\n",
    "\n",
    "age_data['Age_cat']=np.where(age_data['Age']<31, \"0\",\n",
    "                             np.where(age_data['Age']<45, \"1\",\n",
    "                                      np.where(age_data['Age']<60, \"2\",\n",
    "                                               np.where(age_data['Age']<75, \"3\", \"4\"))))\n",
    "age_data=age_data.drop(columns='Age')"
   ],
   "metadata": {
    "collapsed": false
   }
  },
  {
   "cell_type": "code",
   "execution_count": null,
   "outputs": [],
   "source": [
    "# Writing files for filter\n",
    "exprs=\"data/exprs.txt\"\n",
    "conds=\"data/conds.txt\"\n",
    "\n",
    "age_data.drop(columns=[\"Age_cat\"]).to_csv(exprs, sep=\"\\t\", index=False, header=False, decimal=\",\")\n",
    "age_data['Age_cat'].to_csv(conds, sep=\"\\t\", index=False, header=False, quoting=csv.QUOTE_ALL)"
   ],
   "metadata": {
    "collapsed": false
   }
  },
  {
   "cell_type": "code",
   "execution_count": null,
   "outputs": [],
   "source": [
    "# Running filter\n",
    "RauLCF=\"./RauLCF/RauLCF_UI.exe -m \" + exprs + \" -v \" + conds + \" -i 1 200 -c 25\"\n",
    "res=subprocess.run(RauLCF, capture_output=True, text=True)"
   ],
   "metadata": {
    "collapsed": false
   }
  },
  {
   "cell_type": "code",
   "execution_count": null,
   "outputs": [],
   "source": [
    "# Removing all genes below threshold\n",
    "threshold=float(res.stdout[:-1].replace(\",\", \".\"))\n",
    "\n",
    "expr_cols=age_data.drop(columns=['Age_cat']).columns\n",
    "\n",
    "for col in expr_cols:\n",
    "    if (age_data[col].sum() < threshold*age_data[col].count()) & (age_data[col].max() < threshold):\n",
    "        age_data.drop(col, axis=1, inplace=True)"
   ],
   "metadata": {
    "collapsed": false
   }
  },
  {
   "cell_type": "code",
   "execution_count": null,
   "outputs": [],
   "source": [
    "age_data_train=age_data"
   ],
   "metadata": {
    "collapsed": false
   }
  },
  {
   "cell_type": "code",
   "execution_count": null,
   "outputs": [],
   "source": [
    "age_data_train[\"Age_cat\"].value_counts()"
   ],
   "metadata": {
    "collapsed": false
   }
  },
  {
   "cell_type": "code",
   "execution_count": null,
   "outputs": [],
   "source": [
    "# Function which returns feature importance on 80% observations\n",
    "def get_features_stability(data, clf, rand_state):\n",
    "    sample=resample(data, n_samples=int(data.shape[0]*0.8), stratify=data.iloc[:, -1], random_state=rand_state)\n",
    "    clf=clf.fit(sample.iloc[:,:-1], sample.iloc[:, -1].astype('int'))\n",
    "    feature_importance=pd.DataFrame(clf.feature_importances_, sample.iloc[:,:-1].columns)\n",
    "    feature_importance.rename(columns={0:\"Importance\"}, inplace=True)\n",
    "    return(feature_importance)"
   ],
   "metadata": {
    "collapsed": false
   }
  },
  {
   "cell_type": "code",
   "execution_count": null,
   "outputs": [],
   "source": [
    "# Running Bayesian search with xgboost\n",
    "XGBclf=BayesSearchCV(\n",
    "    xgb.XGBClassifier(objective=\"multi:softmax\", num_class=\"4\", random_state=500),\n",
    "    {\n",
    "        'n_estimators': (5, 500),\n",
    "        'max_depth' : (2, 500),\n",
    "        'max_leaves' : (2, 4),\n",
    "        'learning_rate' : (0.0001, 0.9),\n",
    "        'booster' : (\"gbtree\", \"gblinear\", \"dart\"),\n",
    "        'reg_alpha' : (0.0001, 1)\n",
    "    },\n",
    "    cv=2,\n",
    "    n_jobs=24,\n",
    "    random_state=500\n",
    ")\n",
    "XGBclf.fit(age_data_train.iloc[:,:-1], age_data_train.iloc[:, -1].astype('int'))\n",
    "best_params_xgb=XGBclf.best_params_\n",
    "\n",
    "print(best_params_xgb)"
   ],
   "metadata": {
    "collapsed": false
   }
  },
  {
   "cell_type": "code",
   "execution_count": null,
   "outputs": [],
   "source": [
    "# Defining XGB with the best hyperparameters\n",
    "XGBclf_best=xgb.XGBClassifier(n_estimators=best_params_xgb['n_estimators'],\n",
    "                              max_depth=best_params_xgb['max_depth'],\n",
    "                              max_leaves=best_params_xgb['max_leaves'],\n",
    "                              learning_rate=best_params_xgb['learning_rate'],\n",
    "                              booster=best_params_xgb['booster'],\n",
    "                              reg_alpha=best_params_xgb['reg_alpha'],\n",
    "                              objective=\"multi:softmax\",\n",
    "                              num_class=\"4\",\n",
    "                              random_state=500)\n",
    "\n",
    "# Obtaining feature importance for different data subsets\n",
    "for i in range(100):\n",
    "    importance=get_features_stability(age_data_train, XGBclf_best, i).abs().mean(axis=1).sort_values(ascending=False)\n",
    "    if i==0:\n",
    "        stability_xgb=importance.iloc[:50]\n",
    "    else:\n",
    "        stability_xgb=pd.concat([stability_xgb, importance.iloc[:50]], axis=1)"
   ],
   "metadata": {
    "collapsed": false
   }
  },
  {
   "cell_type": "code",
   "execution_count": null,
   "outputs": [],
   "source": [
    "stability_xgb[stability_xgb.isna().sum(axis=1) <= 50]"
   ],
   "metadata": {
    "collapsed": false
   }
  },
  {
   "cell_type": "code",
   "execution_count": null,
   "outputs": [],
   "source": [
    "stability_xgb['genes']=stability_xgb.index\n",
    "stability_xgb.loc[stability_xgb.isna().sum(axis=1) <= 50, 'genes'].to_csv('importance_stability_XGB_tmm.txt', sep=\"\\t\", index=False, header=False)"
   ],
   "metadata": {
    "collapsed": false
   }
  },
  {
   "cell_type": "code",
   "execution_count": null,
   "outputs": [],
   "source": [
    "# Running Bayesian search with Logistic Regression\n",
    "LogRclf=BayesSearchCV(\n",
    "    LogisticRegression(penalty=\"elasticnet\", solver=\"saga\", random_state=500),\n",
    "    {\n",
    "        'C': (0.0001, 2),\n",
    "        'max_iter' : (50, 500),\n",
    "        'l1_ratio' : (0, 1)\n",
    "    },\n",
    "    cv=2,\n",
    "    n_jobs=24,\n",
    "    random_state=500\n",
    ")\n",
    "LogRclf.fit(age_data_train.iloc[:,:-1], age_data_train.iloc[:, -1].astype('int'))\n",
    "best_params_logr=LogRclf.best_params_\n",
    "\n",
    "print(best_params_logr)"
   ],
   "metadata": {
    "collapsed": false
   }
  },
  {
   "cell_type": "code",
   "execution_count": null,
   "outputs": [],
   "source": [
    "# Defaining Logistic Regression with the best hyperparameters\n",
    "LogRclf_best=LogisticRegression(penalty=\"elasticnet\",\n",
    "                                solver=\"saga\",\n",
    "                                C=best_params_logr['C'],\n",
    "                                max_iter=best_params_logr['max_iter'],\n",
    "                                l1_ratio=best_params_logr['l1_ratio'],\n",
    "                                random_state=500)\n",
    "\n",
    "# Obtaining feature importance for different data subsets\n",
    "for i in range(100):\n",
    "    sample=resample(age_data_train, n_samples=int(age_data_train.shape[0]*0.8), stratify=age_data_train.iloc[:, -1], random_state=i)\n",
    "    LogRclf_best=LogRclf_best.fit(sample.iloc[:,:-1], sample.iloc[:, -1].astype('int'))\n",
    "    importance=pd.DataFrame(LogRclf_best.coef_.T, sample.iloc[:,:-1].columns).abs().mean(axis=1).sort_values(ascending=False)\n",
    "    if i==0:\n",
    "        stability_logr=importance.iloc[:50]\n",
    "    else:\n",
    "        stability_logr=pd.concat([stability_logr, importance.iloc[:50]], axis=1)"
   ],
   "metadata": {
    "collapsed": false
   }
  },
  {
   "cell_type": "code",
   "execution_count": null,
   "outputs": [],
   "source": [
    "stability_logr[stability_logr.isna().sum(axis=1) <= 50]"
   ],
   "metadata": {
    "collapsed": false
   }
  },
  {
   "cell_type": "code",
   "execution_count": null,
   "outputs": [],
   "source": [
    "stability_logr['genes']=stability_logr.index\n",
    "stability_logr.loc[stability_logr.isna().sum(axis=1) <= 50, 'genes'].to_csv('importance_stability_LogR.txt', sep=\"\\t\", index=False, header=False)"
   ],
   "metadata": {
    "collapsed": false
   }
  },
  {
   "cell_type": "code",
   "execution_count": null,
   "outputs": [],
   "source": [
    "# Age groups\n",
    "\n",
    "# 20-30: 0\n",
    "# 31-44: 1\n",
    "# 45-59: 2\n",
    "# 60-74: 3\n",
    "# 75+  : 4\n",
    "\n",
    "def get_cruscal(genes):\n",
    "    p_vals=[]\n",
    "    for gene in genes:\n",
    "        Age_20_30=age_data_train.loc[age_data_train['Age_cat']==\"0\", gene].to_list()\n",
    "        Age_31_44=age_data_train.loc[age_data_train['Age_cat']==\"1\", gene].to_list()\n",
    "        Age_45_59=age_data_train.loc[age_data_train['Age_cat']==\"2\", gene].to_list()\n",
    "        Age_60_74=age_data_train.loc[age_data_train['Age_cat']==\"3\", gene].to_list()\n",
    "        Age_75_more=age_data_train.loc[age_data_train['Age_cat']==\"4\", gene].to_list()\n",
    "\n",
    "        stat, p_val=stats.kruskal(Age_20_30, Age_31_44, Age_45_59, Age_60_74, Age_75_more, nan_policy='omit')\n",
    "        p_vals.append(p_val)\n",
    "    rej, p_adj, alphsid, alphb=multitest.multipletests(p_vals, alpha=0.05, method='fdr_bh')\n",
    "\n",
    "    return(pd.DataFrame(p_adj, genes))\n"
   ],
   "metadata": {
    "collapsed": false
   }
  },
  {
   "cell_type": "code",
   "execution_count": null,
   "outputs": [],
   "source": [
    "genes=pd.read_table(\"./data/Biom.txt\", index_col=None, header=None)\n",
    "get_cruscal(genes[0].values.tolist())# All genes with p-val<0.05 are genes of interest"
   ],
   "metadata": {
    "collapsed": false
   }
  },
  {
   "cell_type": "code",
   "execution_count": null,
   "outputs": [],
   "source": [
    "# Plot gene expr vs age and fit lowess curve\n",
    "lowess_plt=sns.regplot(data=age_data_num, x=\"Age\", y=\"CRIM1\", lowess=True)"
   ],
   "metadata": {
    "collapsed": false
   }
  },
  {
   "cell_type": "code",
   "execution_count": null,
   "outputs": [],
   "source": [
    "# Test pairs per every gene of interest\n",
    "\n",
    "gene_list=['SRF','SNHG32','MIR22HG','RPL3','PPDPF','ADPGK','ZNF146','TNC','TPM4','SAT1','CRIM1']\n",
    "\n",
    "age_1=age_data_num.loc[age_data_num['Age']<35]\n",
    "age_2=age_data_num.loc[(age_data_num['Age']>35) & (age_data_num['Age']<55)]\n",
    "age_3=age_data_num.loc[(age_data_num['Age']>55) & (age_data_num['Age']<75)]\n",
    "age_4=age_data_num.loc[age_data_num['Age']>75]\n",
    "\n",
    "pairs_list={'SRF':[[age_1['SRF'], age_2['SRF']],\n",
    "                   [age_2['SRF'], age_3['SRF']],\n",
    "                   [age_1['SRF'], age_3['SRF']],\n",
    "                   [age_2['SRF'], age_4['SRF']],\n",
    "                   [age_3['SRF'], age_4['SRF']]],\n",
    "            'SNHG32':[[age_1['SNHG32'], age_2['SNHG32']],\n",
    "                      [age_1['SNHG32'], age_3['SNHG32']],\n",
    "                      [age_1['SNHG32'], age_4['SNHG32']],\n",
    "                      [age_3['SNHG32'], age_4['SNHG32']]],\n",
    "            'MIR22HG':[[age_1['MIR22HG'], age_2['MIR22HG']],\n",
    "                       [age_2['MIR22HG'], age_3['MIR22HG']],\n",
    "                       [age_1['MIR22HG'], age_3['MIR22HG']],\n",
    "                       [age_2['MIR22HG'], age_4['MIR22HG']],\n",
    "                       [age_3['MIR22HG'], age_4['MIR22HG']]],\n",
    "            'RPL3':[[age_1['RPL3'], age_2['RPL3']],\n",
    "                    [age_2['RPL3'], age_3['RPL3']],\n",
    "                    [age_1['RPL3'], age_4['RPL3']],\n",
    "                    [age_2['RPL3'], age_4['RPL3']],\n",
    "                    [age_3['RPL3'], age_4['RPL3']]],\n",
    "            'PPDPF':[[age_1['PPDPF'], age_4['PPDPF']],\n",
    "                     [age_2['PPDPF'], age_4['PPDPF']],\n",
    "                     [age_3['PPDPF'], age_4['PPDPF']]],\n",
    "            'ADPGK':[[age_1['ADPGK'], age_2['ADPGK']],\n",
    "                     [age_1['ADPGK'], age_3['ADPGK']],\n",
    "                     [age_2['ADPGK'], age_3['ADPGK']],\n",
    "                     [age_1['ADPGK'], age_4['ADPGK']],\n",
    "                     [age_2['ADPGK'], age_4['ADPGK']],\n",
    "                     [age_3['ADPGK'], age_4['ADPGK']]],\n",
    "            'ZNF146':[[age_1['ZNF146'], age_4['ZNF146']],\n",
    "                      [age_2['ZNF146'], age_4['ZNF146']],\n",
    "                      [age_3['ZNF146'], age_4['ZNF146']]],\n",
    "            'TNC': [[age_1['TNC'], age_2['TNC']],\n",
    "                    [age_1['TNC'], age_4['TNC']],\n",
    "                    [age_2['TNC'], age_3['TNC']],\n",
    "                    [age_2['TNC'], age_4['TNC']],\n",
    "                    [age_3['TNC'], age_4['TNC']]],\n",
    "            'TPM4':[[age_1['TPM4'], age_2['TPM4']],\n",
    "                    [age_1['TPM4'], age_4['TPM4']],\n",
    "                    [age_2['TPM4'], age_3['TPM4']],\n",
    "                    [age_2['TPM4'], age_4['TPM4']],\n",
    "                    [age_3['TPM4'], age_4['TPM4']]],\n",
    "            'SAT1':[[age_1['SAT1'], age_2['SAT1']],\n",
    "                    [age_1['SAT1'], age_3['SAT1']],\n",
    "                    [age_2['SAT1'], age_3['SAT1']],\n",
    "                    [age_1['SAT1'], age_4['SAT1']],\n",
    "                    [age_2['SAT1'], age_4['SAT1']],\n",
    "                    [age_3['SAT1'], age_4['SAT1']]],\n",
    "            'CRIM1':[[age_1['CRIM1'], age_2['CRIM1']],\n",
    "                     [age_1['CRIM1'], age_4['CRIM1']],\n",
    "                     [age_2['CRIM1'], age_3['CRIM1']],\n",
    "                     [age_2['CRIM1'], age_4['CRIM1']],\n",
    "                     [age_3['CRIM1'], age_4['CRIM1']]]}\n",
    "\n",
    "def get_utest(pairs, genes):\n",
    "    p_vals=[]\n",
    "    for gene in genes:\n",
    "        for pair in pairs[gene]:\n",
    "            stat, p_val = mannwhitneyu(pair[0], pair[1], nan_policy='omit')\n",
    "            p_vals.append(p_val)\n",
    "\n",
    "    return(p_vals)"
   ],
   "metadata": {
    "collapsed": false
   }
  },
  {
   "cell_type": "code",
   "execution_count": null,
   "outputs": [],
   "source": [
    "p_vals=get_utest(pairs_list, gene_list)\n",
    "p_vals # all unadjasted p-vals"
   ],
   "metadata": {
    "collapsed": false
   }
  },
  {
   "cell_type": "code",
   "execution_count": null,
   "outputs": [],
   "source": [
    "rej, p_adj, alphsid, alphb=multitest.multipletests(p_vals, alpha=0.05, method='fdr_bh')\n",
    "p_adj #All BH adjusted p-vals"
   ],
   "metadata": {
    "collapsed": false
   }
  },
  {
   "cell_type": "code",
   "execution_count": null,
   "outputs": [],
   "source": [
    "#DF for export\n",
    "df_p_adj=pd.DataFrame({'p_adj':p_adj.tolist(),\n",
    "                       'gene':['SRF','SRF','SRF','SRF','SRF','SNHG32','SNHG32','SNHG32','SNHG32',\n",
    "                               'MIR22HG','MIR22HG','MIR22HG','MIR22HG','MIR22HG','RPL3','RPL3',\n",
    "                               'RPL3','RPL3','RPL3','PPDPF','PPDPF','PPDPF','ADPGK','ADPGK',\n",
    "                               'ADPGK','ADPGK','ADPGK','ADPGK','ZNF146','ZNF146','ZNF146','TNC',\n",
    "                               'TNC','TNC','TNC','TNC','TPM4','TPM4','TPM4','TPM4','TPM4','SAT1',\n",
    "                               'SAT1','SAT1','SAT1','SAT1','SAT1','CRIM1','CRIM1','CRIM1',\n",
    "                               'CRIM1','CRIM1'],\n",
    "                       'age_group':['1_vs_2', '2_vs_3', '1_vs_3', '2_vs_4', '3_vs_4', '1_vs_2',\n",
    "                                    '1_vs_3', '1_vs_4', '3_vs_4', '1_vs_2', '2_vs_3', '1_vs_3', '2_vs_4', '3_vs_4', '1_vs_2', '2_vs_3', '1_vs_4', '2_vs_4', '3_vs_4', '1_vs_4', '2_vs_4', '3_vs_4', '1_vs_2', '1_vs_3', '2_vs_3', '1_vs_4', '2_vs_4', '3_vs_4', '1_vs_4', '2_vs_4', '3_vs_4', '1_vs_2', '1_vs_4', '2_vs_3', '2_vs_4', '3_vs_4', '1_vs_2', '1_vs_4', '2_vs_3', '2_vs_4', '3_vs_4', '1_vs_2', '1_vs_3', '2_vs_3', '1_vs_4', '2_vs_4', '3_vs_4', '1_vs_2', '1_vs_4', '2_vs_3', '2_vs_4', '3_vs_4']})"
   ],
   "metadata": {
    "collapsed": false
   }
  },
  {
   "cell_type": "code",
   "execution_count": null,
   "outputs": [],
   "source": [
    "#Save DF with significant differences of gene expr between defined groups\n",
    "df_p_adj[df_p_adj['p_adj']<0.05].to_csv(\"age_groups_biomarkers.txt\", sep=\"\\t\", index=False)"
   ],
   "metadata": {
    "collapsed": false
   }
  },
  {
   "cell_type": "code",
   "execution_count": null,
   "outputs": [],
   "source": [
    "#Save DF with all tested gene-age group pairs\n",
    "df_p_adj.drop(columns='p_adj').to_csv(\"tests_design.txt\", sep=\"\\t\", index=False)"
   ],
   "metadata": {
    "collapsed": false
   }
  },
  {
   "cell_type": "code",
   "execution_count": null,
   "outputs": [],
   "source": [
    "#Age groups desc stats\n",
    "age_descr=age_data_num\n",
    "age_descr['Age_cat']=np.where(age_descr['Age']<35, \"1\",\n",
    "                              np.where(age_descr['Age']<55, \"2\",\n",
    "                                       np.where(age_descr['Age']<75, \"3\", \"4\")))\n",
    "\n",
    "age_descr.groupby(by='Age_cat')['Age'].describe()"
   ],
   "metadata": {
    "collapsed": false
   }
  }
 ],
 "metadata": {
  "kernelspec": {
   "display_name": "Python 3",
   "language": "python",
   "name": "python3"
  },
  "language_info": {
   "codemirror_mode": {
    "name": "ipython",
    "version": 2
   },
   "file_extension": ".py",
   "mimetype": "text/x-python",
   "name": "python",
   "nbconvert_exporter": "python",
   "pygments_lexer": "ipython2",
   "version": "2.7.6"
  }
 },
 "nbformat": 4,
 "nbformat_minor": 0
}
